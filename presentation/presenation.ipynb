{
 "cells": [
  {
   "cell_type": "code",
   "execution_count": null,
   "metadata": {},
   "outputs": [],
   "source": [
    "from transformers import AutoTokenizer, AutoModelForSequenceClassification\n",
    "import torch\n",
    "import pandas as pd\n",
    "tokenizer = AutoTokenizer.from_pretrained(\"nlptown/bert-base-multilingual-uncased-sentiment\")\n",
    "model = AutoModelForSequenceClassification.from_pretrained(\"nlptown/bert-base-multilingual-uncased-sentiment\")\n",
    "df = pd.read_csv('../data/train-balanced-sarcasm.csv', encoding='utf8', on_bad_lines='skip')\n",
    "summary = pd.read('summary.csv')"
   ]
  },
  {
   "cell_type": "markdown",
   "metadata": {},
   "source": [
    "# When Sentiment Analysis fails\n",
    "<div>\n",
    "<img src=\"img/rand_digits.png\" width=\"500\"/>\n",
    "<img src=\"img/rand_page.png\" width=\"500\"/>\n",
    "</div>"
   ]
  },
  {
   "cell_type": "code",
   "execution_count": 2,
   "metadata": {},
   "outputs": [
    {
     "data": {
      "text/plain": [
       "[tensor(4), tensor(0), tensor(4), tensor(4), tensor(4), tensor(4)]"
      ]
     },
     "execution_count": 2,
     "metadata": {},
     "output_type": "execute_result"
    }
   ],
   "source": [
    "comments = [\n",
    "    \"This is a lovely book. I would recommend it to anyone\",\n",
    "    \"This book is just a list of numbers. Useless.\",\n",
    "    \"OMG, what a suspenseful read\",\n",
    "    \"More interesting than the Bible\",\n",
    "    \"This is, without a doubt, a more touching story than twilight\",\n",
    "    \"A great read. Captivating. I couldn’t put it down anymore, when I have found out that 0.629 is there\",\n",
    "]\n",
    "\n",
    "tokens = [tokenizer.encode(comment, return_tensors=\"pt\") for comment in comments]\n",
    "results = [model(token) for token in tokens]\n",
    "classes = [torch.argmax(result.logits) for result in results]\n",
    "classes"
   ]
  },
  {
   "cell_type": "markdown",
   "metadata": {},
   "source": [
    "# Sarcasm detection is needed"
   ]
  },
  {
   "cell_type": "code",
   "execution_count": 48,
   "metadata": {},
   "outputs": [],
   "source": [
    "from simpletransformers.classification import ClassificationModel\n",
    "import os\n",
    "os.environ[\"TOKENIZERS_PARALLELISM\"] = \"false\"\n",
    "\n",
    "model = ClassificationModel(\n",
    "    \"roberta\", \"../models/robertatwitter_reddit/checkpoint-1000\", use_cuda=False\n",
    ")"
   ]
  },
  {
   "cell_type": "code",
   "execution_count": 52,
   "metadata": {},
   "outputs": [
    {
     "data": {
      "application/vnd.jupyter.widget-view+json": {
       "model_id": "db71459dc7144b11871cfe05fe29992a",
       "version_major": 2,
       "version_minor": 0
      },
      "text/plain": [
       "  0%|          | 0/4 [00:00<?, ?it/s]"
      ]
     },
     "metadata": {},
     "output_type": "display_data"
    },
    {
     "data": {
      "application/vnd.jupyter.widget-view+json": {
       "model_id": "3247375741f14b1fb8b9c370950c0a23",
       "version_major": 2,
       "version_minor": 0
      },
      "text/plain": [
       "  0%|          | 0/1 [00:00<?, ?it/s]"
      ]
     },
     "metadata": {},
     "output_type": "display_data"
    },
    {
     "data": {
      "text/plain": [
       "[0, 0, 0, 0]"
      ]
     },
     "execution_count": 52,
     "metadata": {},
     "output_type": "execute_result"
    }
   ],
   "source": [
    "pred, _ = model.predict(comments)\n",
    "pred"
   ]
  },
  {
   "cell_type": "markdown",
   "metadata": {},
   "source": [
    "### Dataset\n",
    "- Twitter (60K data, unbalanced)\n",
    "- MUSTARD (small data available)\n",
    "- Reddit (1M data, balanced)"
   ]
  },
  {
   "cell_type": "code",
   "execution_count": 10,
   "metadata": {},
   "outputs": [
    {
     "data": {
      "text/plain": [
       "<AxesSubplot: title={'center': 'Distribution of Reddit dataset'}, ylabel='Frequency'>"
      ]
     },
     "execution_count": 10,
     "metadata": {},
     "output_type": "execute_result"
    },
    {
     "data": {
      "image/png": "[encoded data removed]",
      "text/plain": [
       "<Figure size 640x480 with 1 Axes>"
      ]
     },
     "metadata": {},
     "output_type": "display_data"
    }
   ],
   "source": [
    "\n",
    "df['label'].plot(kind='hist', title='Distribution of Reddit dataset')"
   ]
  },
  {
   "cell_type": "markdown",
   "metadata": {},
   "source": [
    "### Model\n",
    "- RoBERTa sentence representation\n",
    "- pretrained models used:\n",
    "    1. https://huggingface.co/cardiffnlp/twitter-roberta-base-irony\n",
    "    2. https://huggingface.co/jkhan447/sarcasm-detection-RoBerta-base-POS"
   ]
  },
  {
   "cell_type": "markdown",
   "metadata": {},
   "source": [
    "### Hardware Spec"
   ]
  },
  {
   "cell_type": "markdown",
   "metadata": {},
   "source": [
    "\n",
    "<pre> \n",
    "Architecture:                    x86_64 \n",
    "CPU op-mode(s):                  32-bit, 64-bit\n",
    "Byte Order:                      Little Endian\n",
    "Address sizes:                   46 bits physical, 48 bits virtual\n",
    "CPU(s):                          32\n",
    "On-line CPU(s) list:             0-31\n",
    "Thread(s) per core:              2\n",
    "Core(s) per socket:              8\n",
    "Socket(s):                       2\n",
    "NUMA node(s):                    2\n",
    "Vendor ID:                       GenuineIntel\n",
    "CPU family:                      6\n",
    "Model:                           63\n",
    "Model name:                      Intel(R) Xeon(R) CPU E5-2630 v3 @ 2.40GHz\n",
    "Stepping:                        2\n",
    "CPU MHz:                         2596.774\n",
    "CPU max MHz:                     3200.0000\n",
    "CPU min MHz:                     1200.0000\n",
    "BogoMIPS:                        4794.04\n",
    "Virtualization:                  VT-x\n",
    "RAM:                             32GB\n",
    "OS:                              Ubuntu 20.04.5 LTS (virtualized lxc container on Ubuntu 18.04.6 LTS host machine)  \n",
    "</pre>"
   ]
  },
  {
   "cell_type": "markdown",
   "metadata": {},
   "source": [
    "### Evaluation\n",
    "\n"
   ]
  },
  {
   "cell_type": "markdown",
   "metadata": {},
   "source": [
    "## References\n",
    "- Bharti, Gupta, Shukla, Hatamleh, Tarazi, Nuagah, Multimodal Sarcasm Detection: A Deep Learning Approach\n",
    "- Oprea, Magdy, iSarcasm: A Dataset of Intended Sarcasm \n",
    "- Hamed Yaghoobian, Hamid R. Arabnia, Khaled Rasheed: Sarcasm Detection: A Comparative Study\n",
    "- Kumar, Anand, Transformers on Sarcasm Detection with Context\n",
    "- https://www.projectpro.io/article/bert-nlp-model-explained/558\n"
   ]
  },
  {
   "cell_type": "markdown",
   "metadata": {},
   "source": [
    "\n",
    "Special thanks for the Romanian Orthodox Church for (unknowingly) providing computational resources\n",
    "<div>\n",
    "<img src=\"img/ikon.png\" width=\"500\"/>\n",
    "<br>\n",
    "<a href=\"http://museikon.ro\">\n",
    "http://museikon.ro\n",
    "</a>\n",
    "</div>"
   ]
  },
  {
   "cell_type": "markdown",
   "metadata": {},
   "source": []
  }
 ],
 "metadata": {
  "kernelspec": {
   "display_name": "Python 3.10.8 ('irony')",
   "language": "python",
   "name": "python3"
  },
  "language_info": {
   "codemirror_mode": {
    "name": "ipython",
    "version": 3
   },
   "file_extension": ".py",
   "mimetype": "text/x-python",
   "name": "python",
   "nbconvert_exporter": "python",
   "pygments_lexer": "ipython3",
   "version": "3.10.8"
  },
  "orig_nbformat": 4,
  "vscode": {
   "interpreter": {
    "hash": "5d7a21e848b3cc955e3fd9b39a5d790591b1d409724a3e1c3d6c5da737ac6797"
   }
  }
 },
 "nbformat": 4,
 "nbformat_minor": 2
}
