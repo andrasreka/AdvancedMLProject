{
 "cells": [
  {
   "cell_type": "markdown",
   "metadata": {},
   "source": [
    "# When Sentiment Analysis fails\n",
    "<div>\n",
    "<img src=\"img/rand_digits.png\" width=\"500\"/>\n",
    "<img src=\"img/rand_page.png\" width=\"500\"/>\n",
    "</div>"
   ]
  },
  {
   "cell_type": "code",
   "execution_count": 43,
   "metadata": {},
   "outputs": [],
   "source": [
    "from transformers import AutoTokenizer, AutoModelForSequenceClassification\n",
    "import torch\n",
    "tokenizer = AutoTokenizer.from_pretrained(\"nlptown/bert-base-multilingual-uncased-sentiment\")\n",
    "model = AutoModelForSequenceClassification.from_pretrained(\"nlptown/bert-base-multilingual-uncased-sentiment\")"
   ]
  },
  {
   "cell_type": "code",
   "execution_count": 44,
   "metadata": {},
   "outputs": [
    {
     "data": {
      "text/plain": [
       "[tensor(4), tensor(0), tensor(4), tensor(4)]"
      ]
     },
     "execution_count": 44,
     "metadata": {},
     "output_type": "execute_result"
    }
   ],
   "source": [
    "comments = [\n",
    "    \"This is a lovely book. I would recommend it to anyone\",\n",
    "    \"This book is borring. Just a bunch of numbers\",\n",
    "    \"This is, without a doubt, a better story than twilight\",\n",
    "    \"A great read. Captivating. I couldn’t put it down anymore, when I have found out that 0.629 is there\"\n",
    "]\n",
    "\n",
    "tokens = [tokenizer.encode(comment, return_tensors=\"pt\") for comment in comments]\n",
    "results = [model(token) for token in tokens]\n",
    "classes = [torch.argmax(result.logits) for result in results]\n",
    "classes"
   ]
  },
  {
   "cell_type": "markdown",
   "metadata": {},
   "source": [
    "# Sarcasm detection is needed"
   ]
  },
  {
   "cell_type": "code",
   "execution_count": 48,
   "metadata": {},
   "outputs": [],
   "source": [
    "from simpletransformers.classification import ClassificationModel\n",
    "import os\n",
    "os.environ[\"TOKENIZERS_PARALLELISM\"] = \"false\"\n",
    "\n",
    "model = ClassificationModel(\n",
    "    \"roberta\", \"../models/robertatwitter_reddit/checkpoint-1000\", use_cuda=False\n",
    ")"
   ]
  },
  {
   "cell_type": "code",
   "execution_count": 52,
   "metadata": {},
   "outputs": [
    {
     "data": {
      "application/vnd.jupyter.widget-view+json": {
       "model_id": "db71459dc7144b11871cfe05fe29992a",
       "version_major": 2,
       "version_minor": 0
      },
      "text/plain": [
       "  0%|          | 0/4 [00:00<?, ?it/s]"
      ]
     },
     "metadata": {},
     "output_type": "display_data"
    },
    {
     "data": {
      "application/vnd.jupyter.widget-view+json": {
       "model_id": "3247375741f14b1fb8b9c370950c0a23",
       "version_major": 2,
       "version_minor": 0
      },
      "text/plain": [
       "  0%|          | 0/1 [00:00<?, ?it/s]"
      ]
     },
     "metadata": {},
     "output_type": "display_data"
    },
    {
     "data": {
      "text/plain": [
       "[0, 0, 0, 0]"
      ]
     },
     "execution_count": 52,
     "metadata": {},
     "output_type": "execute_result"
    }
   ],
   "source": [
    "pred, _ = model.predict(comments)\n",
    "pred"
   ]
  },
  {
   "cell_type": "markdown",
   "metadata": {},
   "source": [
    "### Dataset\n",
    "- Twitter (60K data, unbalanced)\n",
    "- MUSTARD (small data available)\n",
    "- Reddit (1M data, balanced)"
   ]
  },
  {
   "cell_type": "markdown",
   "metadata": {},
   "source": [
    "### Model\n",
    "- RoBERTa sentence representation\n",
    "- pretrained models used:\n",
    "    1. https://huggingface.co/cardiffnlp/twitter-roberta-base-irony\n",
    "    2. https://huggingface.co/jkhan447/sarcasm-detection-RoBerta-base-POS"
   ]
  },
  {
   "cell_type": "markdown",
   "metadata": {},
   "source": [
    "### Evaluation\n"
   ]
  },
  {
   "cell_type": "markdown",
   "metadata": {},
   "source": [
    "## References\n",
    "- Bharti, Gupta, Shukla, Hatamleh, Tarazi, Nuagah, Multimodal Sarcasm Detection: A Deep Learning Approach\n",
    "- Oprea, Magdy, iSarcasm: A Dataset of Intended Sarcasm \n",
    "- Hamed Yaghoobian, Hamid R. Arabnia, Khaled Rasheed: Sarcasm Detection: A Comparative Study\n",
    "- https://www.projectpro.io/article/bert-nlp-model-explained/558\n"
   ]
  },
  {
   "cell_type": "markdown",
   "metadata": {},
   "source": [
    "\n",
    "Special thanks for the Romanian Orthodox Church for (unknowingly) providing computational resources\n",
    "<div>\n",
    "<img src=\"img/ikon.png\" width=\"500\"/>\n",
    "<br>\n",
    "<a href=\"http://museikon.ro\">\n",
    "http://museikon.ro\n",
    "</a>\n",
    "</div>"
   ]
  },
  {
   "cell_type": "markdown",
   "metadata": {},
   "source": []
  }
 ],
 "metadata": {
  "kernelspec": {
   "display_name": "Python 3.10.8 ('irony')",
   "language": "python",
   "name": "python3"
  },
  "language_info": {
   "codemirror_mode": {
    "name": "ipython",
    "version": 3
   },
   "file_extension": ".py",
   "mimetype": "text/x-python",
   "name": "python",
   "nbconvert_exporter": "python",
   "pygments_lexer": "ipython3",
   "version": "3.10.8"
  },
  "orig_nbformat": 4,
  "vscode": {
   "interpreter": {
    "hash": "5d7a21e848b3cc955e3fd9b39a5d790591b1d409724a3e1c3d6c5da737ac6797"
   }
  }
 },
 "nbformat": 4,
 "nbformat_minor": 2
}
