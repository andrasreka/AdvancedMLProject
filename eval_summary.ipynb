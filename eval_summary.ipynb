{
 "cells": [
  {
   "cell_type": "code",
   "execution_count": 26,
   "metadata": {},
   "outputs": [],
   "source": [
    "import json\n",
    "f = open ('models/robertanoname_mustard/eval.json', \"r\")\n",
    "n_mustard = json.loads(f.read())\n",
    "f = open ('models/robertatwitter_mustard/eval.json', \"r\")\n",
    "t_mustard = json.loads(f.read())\n",
    "f = open ('models/robertatwitter_reddit/eval.json', \"r\")\n",
    "t_reddit = json.loads(f.read())\n",
    "f = open ('models/baseline/eval.json', \"r\")\n",
    "baseline = json.loads(f.read())\n"
   ]
  },
  {
   "cell_type": "code",
   "execution_count": 27,
   "metadata": {},
   "outputs": [],
   "source": [
    "import pandas as pd\n",
    "\n",
    "pretrained = ['NoName', 'twitter', 'twitter', 'twitter',]\n",
    "dataset = ['MUSTARD', 'MUSTARD' , 'twitter', 'reddit',]\n",
    "precision = [n_mustard['precision'], t_mustard['precision'], baseline['precision'], t_reddit['precision']]\n",
    "recall = [n_mustard['recall'], t_mustard['recall'], baseline['recall'], t_reddit['recall']]\n",
    "f1 = [n_mustard['f1'], t_mustard['f1'], baseline['f1'], t_reddit['f1']]\n",
    "mcc = [n_mustard['mcc'], t_mustard['mcc'], baseline['mcc'], t_reddit['mcc']]\n",
    "\n",
    "summary = pd.DataFrame(list(zip(pretrained, dataset, precision, recall, f1, mcc)))\n",
    "\n",
    "summary.columns = ['Pretrained Models', 'Dataset', 'Precision', 'Recall', 'F1-Score', 'MCC']"
   ]
  },
  {
   "cell_type": "code",
   "execution_count": 28,
   "metadata": {},
   "outputs": [],
   "source": [
    "summary.head(2).to_csv(\"presentation/1iter_summary.csv\", index = False)"
   ]
  },
  {
   "cell_type": "code",
   "execution_count": 29,
   "metadata": {},
   "outputs": [],
   "source": [
    "summary.tail(2).to_csv(\"presentation/2iter_summary.csv\", index = False)"
   ]
  },
  {
   "cell_type": "code",
   "execution_count": null,
   "metadata": {},
   "outputs": [],
   "source": []
  }
 ],
 "metadata": {
  "kernelspec": {
   "display_name": "Python 3.10.8 ('irony')",
   "language": "python",
   "name": "python3"
  },
  "language_info": {
   "codemirror_mode": {
    "name": "ipython",
    "version": 3
   },
   "file_extension": ".py",
   "mimetype": "text/x-python",
   "name": "python",
   "nbconvert_exporter": "python",
   "pygments_lexer": "ipython3",
   "version": "3.10.8"
  },
  "orig_nbformat": 4,
  "vscode": {
   "interpreter": {
    "hash": "5d7a21e848b3cc955e3fd9b39a5d790591b1d409724a3e1c3d6c5da737ac6797"
   }
  }
 },
 "nbformat": 4,
 "nbformat_minor": 2
}
