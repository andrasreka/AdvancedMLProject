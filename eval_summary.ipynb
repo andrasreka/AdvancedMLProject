{
 "cells": [
  {
   "cell_type": "code",
   "execution_count": 16,
   "metadata": {},
   "outputs": [],
   "source": [
    "import json\n",
    "f = open ('models/robertanoname_mustard/eval.json', \"r\")\n",
    "n_mustard = json.loads(f.read())\n",
    "f = open ('models/robertatwitter_mustard/eval.json', \"r\")\n",
    "t_mustard = json.loads(f.read())\n",
    "f = open ('models/robertatwitter_reddit/eval.json', \"r\")\n",
    "t_reddit = json.loads(f.read())"
   ]
  },
  {
   "cell_type": "code",
   "execution_count": 23,
   "metadata": {},
   "outputs": [],
   "source": [
    "import pandas as pd\n",
    "\n",
    "pretrained = ['NoName', 'twitter', 'twitter']\n",
    "dataset = ['MUSTARS', 'MUSTARD' , 'reddit']\n",
    "precision = [n_mustard['precision'], t_mustard['precision'], t_reddit['precision']]\n",
    "recall = [n_mustard['recall'], t_mustard['recall'], t_reddit['recall']]\n",
    "f1 = [n_mustard['f1'], t_mustard['f1'], t_reddit['f1']]\n",
    "mcc = [n_mustard['mcc'], t_mustard['mcc'], t_reddit['mcc']]\n",
    "\n",
    "summary = pd.DataFrame(list(zip(pretrained, dataset, precision, recall, f1, mcc)))\n",
    "\n",
    "summary.columns = ['Pretrained Models', 'Dataset', 'Precision', 'Recall', 'F1-Score', 'MCC']"
   ]
  },
  {
   "cell_type": "code",
   "execution_count": 24,
   "metadata": {},
   "outputs": [
    {
     "data": {
      "text/html": [
       "<div>\n",
       "<style scoped>\n",
       "    .dataframe tbody tr th:only-of-type {\n",
       "        vertical-align: middle;\n",
       "    }\n",
       "\n",
       "    .dataframe tbody tr th {\n",
       "        vertical-align: top;\n",
       "    }\n",
       "\n",
       "    .dataframe thead th {\n",
       "        text-align: right;\n",
       "    }\n",
       "</style>\n",
       "<table border=\"1\" class=\"dataframe\">\n",
       "  <thead>\n",
       "    <tr style=\"text-align: right;\">\n",
       "      <th></th>\n",
       "      <th>Pretrained Models</th>\n",
       "      <th>Dataset</th>\n",
       "      <th>Precision</th>\n",
       "      <th>Recall</th>\n",
       "      <th>F1-Score</th>\n",
       "    </tr>\n",
       "  </thead>\n",
       "  <tbody>\n",
       "    <tr>\n",
       "      <th>0</th>\n",
       "      <td>NoName</td>\n",
       "      <td>MUSTARS</td>\n",
       "      <td>0.675000</td>\n",
       "      <td>0.683544</td>\n",
       "      <td>0.679245</td>\n",
       "    </tr>\n",
       "    <tr>\n",
       "      <th>1</th>\n",
       "      <td>twitter</td>\n",
       "      <td>MUSTARD</td>\n",
       "      <td>0.862069</td>\n",
       "      <td>0.316456</td>\n",
       "      <td>0.462963</td>\n",
       "    </tr>\n",
       "    <tr>\n",
       "      <th>2</th>\n",
       "      <td>twitter</td>\n",
       "      <td>reddit</td>\n",
       "      <td>0.702180</td>\n",
       "      <td>0.709564</td>\n",
       "      <td>0.705853</td>\n",
       "    </tr>\n",
       "  </tbody>\n",
       "</table>\n",
       "</div>"
      ],
      "text/plain": [
       "  Pretrained Models  Dataset  Precision    Recall  F1-Score\n",
       "0            NoName  MUSTARS   0.675000  0.683544  0.679245\n",
       "1           twitter  MUSTARD   0.862069  0.316456  0.462963\n",
       "2           twitter   reddit   0.702180  0.709564  0.705853"
      ]
     },
     "execution_count": 24,
     "metadata": {},
     "output_type": "execute_result"
    }
   ],
   "source": [
    "summary"
   ]
  },
  {
   "cell_type": "code",
   "execution_count": null,
   "metadata": {},
   "outputs": [],
   "source": []
  }
 ],
 "metadata": {
  "kernelspec": {
   "display_name": "Python 3.10.8 ('irony')",
   "language": "python",
   "name": "python3"
  },
  "language_info": {
   "codemirror_mode": {
    "name": "ipython",
    "version": 3
   },
   "file_extension": ".py",
   "mimetype": "text/x-python",
   "name": "python",
   "nbconvert_exporter": "python",
   "pygments_lexer": "ipython3",
   "version": "3.10.8"
  },
  "orig_nbformat": 4,
  "vscode": {
   "interpreter": {
    "hash": "5d7a21e848b3cc955e3fd9b39a5d790591b1d409724a3e1c3d6c5da737ac6797"
   }
  }
 },
 "nbformat": 4,
 "nbformat_minor": 2
}
