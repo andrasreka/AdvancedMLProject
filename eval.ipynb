{
 "cells": [
  {
   "cell_type": "code",
   "execution_count": null,
   "metadata": {},
   "outputs": [],
   "source": [
    "import os\n",
    "import glob\n",
    "from transformers import WEIGHTS_NAME\n",
    "import logging\n",
    "logging.basicConfig(level=logging.INFO)\n",
    "logger = logging.getLogger(__name__)\n",
    "config_class, model_class, tokenizer_class = MODEL_CLASSES[args['model_type']]"
   ]
  },
  {
   "cell_type": "code",
   "execution_count": null,
   "metadata": {},
   "outputs": [],
   "source": [
    "results = {}\n",
    "checkpoints = ['outputs/']\n",
    "checkpoints = list(os.path.dirname(c) for c in sorted(glob.glob('outputs/' + '/**/' + WEIGHTS_NAME, recursive=True)))\n",
    "logging.getLogger(\"pytorch_transformers.modeling_utils\").setLevel(logging.WARN)  # Reduce logging\n",
    "logger.info(\"Evaluate the following checkpoints: %s\", checkpoints)\n",
    "for checkpoint in checkpoints:\n",
    "    global_step = checkpoint.split('-')[-1] if len(checkpoints) > 1 else \"\"\n",
    "    model = model_class.from_pretrained(checkpoint)\n",
    "    model.to(device)\n",
    "    result, wrong_preds = evaluate(model, tokenizer, prefix=global_step)\n",
    "    result = dict((k + '_{}'.format(global_step), v) for k, v in result.items())\n",
    "    results.update(result)\n"
   ]
  }
 ],
 "metadata": {
  "kernelspec": {
   "display_name": "Python 3.10.8 ('irony')",
   "language": "python",
   "name": "python3"
  },
  "language_info": {
   "name": "python",
   "version": "3.10.8"
  },
  "orig_nbformat": 4,
  "vscode": {
   "interpreter": {
    "hash": "5d7a21e848b3cc955e3fd9b39a5d790591b1d409724a3e1c3d6c5da737ac6797"
   }
  }
 },
 "nbformat": 4,
 "nbformat_minor": 2
}
